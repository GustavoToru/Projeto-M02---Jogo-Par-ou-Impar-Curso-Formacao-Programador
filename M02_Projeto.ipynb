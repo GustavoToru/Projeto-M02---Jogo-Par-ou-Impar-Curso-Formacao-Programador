{
  "nbformat": 4,
  "nbformat_minor": 0,
  "metadata": {
    "colab": {
      "provenance": []
    },
    "kernelspec": {
      "name": "python3",
      "display_name": "Python 3"
    },
    "language_info": {
      "name": "python"
    }
  },
  "cells": [
    {
      "cell_type": "markdown",
      "source": [],
      "metadata": {
        "id": "I84n6iwyHCgz"
      }
    },
    {
      "cell_type": "code",
      "source": [
        "print(\"~Jogo Par ou Ímpar~\")\n",
        "jogador1 = input('-> Digite o nome do primeiro jogador:')\n",
        "jogador2 = input('-> Digite o nome do segundo jogador:')\n",
        "\n",
        "print(f'Quem escolhe primeiro, {jogador1} ou {jogador2}?')\n",
        "primeiro_jogador = input(f'-> Digite 1 para escolher {jogador1} ou 2 para escolher {jogador2}.')\n",
        "segundo_jogador = None\n",
        "\n",
        "if primeiro_jogador == \"1\":\n",
        "  primeiro_jogador = jogador1\n",
        "  segundo_jogador = jogador2\n",
        "elif primeiro_jogador == \"2\":\n",
        "  primeiro_jogador = jogador2\n",
        "  segundo_jogador = jogador1\n",
        "\n",
        "print('// Digite 0 para escolhar PAR ou 1 para escolher ÍMPAR')\n",
        "escolha = input(f'->{primeiro_jogador}, Você quer par ou ímpar?')\n",
        "escolha2 = None\n",
        "\n",
        "\n",
        "if escolha == 'ímpar' or escolha == 'impar' or escolha == '1':\n",
        " escolha  = 'ímpar'\n",
        " escolha2 = 'par'\n",
        "elif escolha == 'par' or escolha == '0':\n",
        "  escolha = 'par'\n",
        "  escolha2 = 'ímpar'\n",
        "\n",
        "print(f'//{segundo_jogador}, você ficou com {escolha2} e o {primeiro_jogador} escolheu {escolha}.')\n",
        "\n",
        "numero1 = int(input(f'-> {primeiro_jogador}, escolha um número:'))\n",
        "numero2 = int(input(f'-> {segundo_jogador}, escolha um número:'))\n",
        "\n",
        "soma = numero1 + numero2\n",
        "\n",
        "if soma % 2 == 0:\n",
        "  vencedor = 'par'\n",
        "else:\n",
        "  vencedor = 'ímpar'\n",
        "\n",
        "if vencedor == escolha:\n",
        "  print(f'// {primeiro_jogador} VENCEU!')\n",
        "else:\n",
        "  print(f'{segundo_jogador} VENCEU!')"
      ],
      "metadata": {
        "id": "LgtSEZIsHICI",
        "colab": {
          "base_uri": "https://localhost:8080/",
          "height": 0
        },
        "outputId": "008afd7c-8145-44dc-b8b6-ca66dda36de0"
      },
      "execution_count": 2,
      "outputs": [
        {
          "output_type": "stream",
          "name": "stdout",
          "text": [
            "~Jogo Par ou Ímpar~\n",
            "-> Digite o nome do primeiro jogador:a\n",
            "-> Digite o nome do segundo jogador:b\n",
            "Quem escolhe primeiro, a ou b?\n",
            "-> Digite 1 para escolher a ou 2 para escolher b.1\n",
            "// Digite 0 para escolhar PAR ou 1 para escolher ÍMPAR\n",
            "->a, Você quer par ou ímpar?par\n",
            "//b, você ficou com ímpar e o a escolheu par.\n",
            "-> a, escolha um número:10\n",
            "-> b, escolha um número:14\n",
            "// a VENCEU!\n"
          ]
        }
      ]
    }
  ]
}